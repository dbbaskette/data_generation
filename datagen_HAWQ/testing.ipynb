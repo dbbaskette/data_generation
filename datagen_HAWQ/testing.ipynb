{
 "cells": [
  {
   "cell_type": "code",
   "execution_count": 155,
   "metadata": {
    "collapsed": true
   },
   "outputs": [],
   "source": [
    "from pandas import *\n",
    "import datetime\n",
    "from datetime import date"
   ]
  },
  {
   "cell_type": "code",
   "execution_count": 171,
   "metadata": {
    "collapsed": false
   },
   "outputs": [],
   "source": [
    "df = read_csv('test_cust_pickle.txt', header = None, delimiter = '|')"
   ]
  },
  {
   "cell_type": "code",
   "execution_count": 172,
   "metadata": {
    "collapsed": false
   },
   "outputs": [
    {
     "data": {
      "text/html": [
       "<div>\n",
       "<table border=\"1\" class=\"dataframe\">\n",
       "  <thead>\n",
       "    <tr style=\"text-align: right;\">\n",
       "      <th></th>\n",
       "      <th>0</th>\n",
       "      <th>1</th>\n",
       "      <th>2</th>\n",
       "      <th>3</th>\n",
       "      <th>4</th>\n",
       "      <th>5</th>\n",
       "      <th>6</th>\n",
       "      <th>7</th>\n",
       "      <th>8</th>\n",
       "      <th>9</th>\n",
       "      <th>10</th>\n",
       "      <th>11</th>\n",
       "      <th>12</th>\n",
       "      <th>13</th>\n",
       "      <th>14</th>\n",
       "    </tr>\n",
       "  </thead>\n",
       "  <tbody>\n",
       "    <tr>\n",
       "      <th>0</th>\n",
       "      <td>144-86-1645</td>\n",
       "      <td>Major</td>\n",
       "      <td>Robel</td>\n",
       "      <td>M</td>\n",
       "      <td>63122 Luverne Lake</td>\n",
       "      <td>Fort Wayne</td>\n",
       "      <td>IN</td>\n",
       "      <td>46807</td>\n",
       "      <td>41.0491</td>\n",
       "      <td>-85.1462</td>\n",
       "      <td>305409</td>\n",
       "      <td>Site engineer</td>\n",
       "      <td>1993-02-27</td>\n",
       "      <td>77</td>\n",
       "      <td>millenials.json</td>\n",
       "    </tr>\n",
       "    <tr>\n",
       "      <th>1</th>\n",
       "      <td>821-26-1914</td>\n",
       "      <td>Lorelei</td>\n",
       "      <td>Daniel</td>\n",
       "      <td>F</td>\n",
       "      <td>9993 Bose Well</td>\n",
       "      <td>Allentown</td>\n",
       "      <td>PA</td>\n",
       "      <td>18102</td>\n",
       "      <td>40.6068</td>\n",
       "      <td>-75.4781</td>\n",
       "      <td>166081</td>\n",
       "      <td>Sports development officer</td>\n",
       "      <td>1922-01-12</td>\n",
       "      <td>7292506</td>\n",
       "      <td>all_60_up.json</td>\n",
       "    </tr>\n",
       "    <tr>\n",
       "      <th>2</th>\n",
       "      <td>624-92-8243</td>\n",
       "      <td>Viviana</td>\n",
       "      <td>Barton</td>\n",
       "      <td>F</td>\n",
       "      <td>09970 Ledner Lodge Apt. 535</td>\n",
       "      <td>Charleston</td>\n",
       "      <td>SC</td>\n",
       "      <td>29410</td>\n",
       "      <td>32.9302</td>\n",
       "      <td>-80.0027</td>\n",
       "      <td>195110</td>\n",
       "      <td>Clinical biochemist</td>\n",
       "      <td>1920-12-27</td>\n",
       "      <td>77318</td>\n",
       "      <td>all_60_up.json</td>\n",
       "    </tr>\n",
       "    <tr>\n",
       "      <th>3</th>\n",
       "      <td>111-29-8396</td>\n",
       "      <td>Dominga</td>\n",
       "      <td>West</td>\n",
       "      <td>F</td>\n",
       "      <td>6988 Breitenberg Extensions</td>\n",
       "      <td>Belleville</td>\n",
       "      <td>NJ</td>\n",
       "      <td>7109</td>\n",
       "      <td>40.7946</td>\n",
       "      <td>-74.1631</td>\n",
       "      <td>35897</td>\n",
       "      <td>Administrator, education</td>\n",
       "      <td>1958-06-03</td>\n",
       "      <td>93</td>\n",
       "      <td>40_60_smaller_cities.json</td>\n",
       "    </tr>\n",
       "    <tr>\n",
       "      <th>4</th>\n",
       "      <td>693-14-8920</td>\n",
       "      <td>Shirleyann</td>\n",
       "      <td>Blanda</td>\n",
       "      <td>F</td>\n",
       "      <td>957 Runte Mountain Apt. 527</td>\n",
       "      <td>Waco</td>\n",
       "      <td>TX</td>\n",
       "      <td>76798</td>\n",
       "      <td>31.5470</td>\n",
       "      <td>-97.1203</td>\n",
       "      <td>148766</td>\n",
       "      <td>Teacher, English as a foreign language</td>\n",
       "      <td>1952-04-11</td>\n",
       "      <td>8980</td>\n",
       "      <td>all_60_up.json</td>\n",
       "    </tr>\n",
       "  </tbody>\n",
       "</table>\n",
       "</div>"
      ],
      "text/plain": [
       "            0           1       2  3                            4   \\\n",
       "0  144-86-1645       Major   Robel  M           63122 Luverne Lake   \n",
       "1  821-26-1914     Lorelei  Daniel  F               9993 Bose Well   \n",
       "2  624-92-8243     Viviana  Barton  F  09970 Ledner Lodge Apt. 535   \n",
       "3  111-29-8396     Dominga    West  F  6988 Breitenberg Extensions   \n",
       "4  693-14-8920  Shirleyann  Blanda  F  957 Runte Mountain Apt. 527   \n",
       "\n",
       "           5   6      7        8        9       10  \\\n",
       "0  Fort Wayne  IN  46807  41.0491 -85.1462  305409   \n",
       "1   Allentown  PA  18102  40.6068 -75.4781  166081   \n",
       "2  Charleston  SC  29410  32.9302 -80.0027  195110   \n",
       "3  Belleville  NJ   7109  40.7946 -74.1631   35897   \n",
       "4        Waco  TX  76798  31.5470 -97.1203  148766   \n",
       "\n",
       "                                       11          12       13  \\\n",
       "0                           Site engineer  1993-02-27       77   \n",
       "1              Sports development officer  1922-01-12  7292506   \n",
       "2                     Clinical biochemist  1920-12-27    77318   \n",
       "3                Administrator, education  1958-06-03       93   \n",
       "4  Teacher, English as a foreign language  1952-04-11     8980   \n",
       "\n",
       "                          14  \n",
       "0            millenials.json  \n",
       "1             all_60_up.json  \n",
       "2             all_60_up.json  \n",
       "3  40_60_smaller_cities.json  \n",
       "4             all_60_up.json  "
      ]
     },
     "execution_count": 172,
     "metadata": {},
     "output_type": "execute_result"
    }
   ],
   "source": [
    "df.head()"
   ]
  },
  {
   "cell_type": "code",
   "execution_count": 173,
   "metadata": {
    "collapsed": false
   },
   "outputs": [],
   "source": [
    "def to_date(d):\n",
    "    d = [int(i) for i in d.split('-')]\n",
    "    return date(d[0], d[1], d[2])\n",
    "    \n",
    "\n",
    "ages = (date(2015,12,2) - df.loc[:, 12].apply(lambda x: to_date(x))).apply(lambda x: x/365.)"
   ]
  },
  {
   "cell_type": "code",
   "execution_count": 174,
   "metadata": {
    "collapsed": false
   },
   "outputs": [],
   "source": [
    "new = {}\n",
    "for i in ages.index:\n",
    "    new[i] = ages[i].days\n",
    "ages = DataFrame.from_dict(new, orient = 'index')\n",
    "ages.columns = ['age']\n"
   ]
  },
  {
   "cell_type": "code",
   "execution_count": 175,
   "metadata": {
    "collapsed": false
   },
   "outputs": [
    {
     "data": {
      "text/plain": [
       "56    224\n",
       "58    204\n",
       "43    201\n",
       "53    201\n",
       "57    200\n",
       "59    200\n",
       "47    196\n",
       "50    194\n",
       "27    188\n",
       "61    185\n",
       "48    184\n",
       "63    183\n",
       "40    178\n",
       "52    177\n",
       "46    176\n",
       "49    176\n",
       "55    174\n",
       "41    172\n",
       "24    167\n",
       "62    164\n",
       "51    164\n",
       "38    163\n",
       "30    162\n",
       "54    162\n",
       "33    162\n",
       "22    160\n",
       "26    158\n",
       "35    158\n",
       "31    158\n",
       "42    157\n",
       "     ... \n",
       "72     84\n",
       "74     82\n",
       "73     80\n",
       "79     79\n",
       "71     77\n",
       "75     74\n",
       "78     70\n",
       "76     68\n",
       "80     62\n",
       "95     60\n",
       "84     59\n",
       "82     58\n",
       "77     58\n",
       "81     55\n",
       "86     54\n",
       "83     54\n",
       "89     48\n",
       "93     47\n",
       "92     47\n",
       "85     46\n",
       "94     45\n",
       "87     43\n",
       "90     39\n",
       "91     38\n",
       "88     36\n",
       "18     21\n",
       "16     19\n",
       "15     18\n",
       "17     17\n",
       "96      1\n",
       "Name: age, dtype: int64"
      ]
     },
     "execution_count": 175,
     "metadata": {},
     "output_type": "execute_result"
    }
   ],
   "source": [
    "ages.age.value_counts()"
   ]
  },
  {
   "cell_type": "code",
   "execution_count": 53,
   "metadata": {
    "collapsed": false
   },
   "outputs": [],
   "source": [
    "import cPickle as pickle\n",
    "import random\n",
    "\n",
    "age_gender = pickle.load(open('/Users/jplotkin/Dropbox/pivotal/data_generation/datagen_github/data_generation/data_generation/datagen_python/pickles/age_gender.pickle', 'rb'))"
   ]
  },
  {
   "cell_type": "code",
   "execution_count": 70,
   "metadata": {
    "collapsed": false
   },
   "outputs": [],
   "source": [
    "ages = {}\n",
    "\n",
    "for i in range(100):\n",
    "    ages[i] = age_gender[min([a for a in age_gender if a > np.random.random()])][1]\n",
    "df = DataFrame.from_dict(ages, orient = 'index')\n",
    "df.columns = ['age']"
   ]
  },
  {
   "cell_type": "code",
   "execution_count": 73,
   "metadata": {
    "collapsed": false
   },
   "outputs": [
    {
     "data": {
      "text/plain": [
       "26    14\n",
       "24    12\n",
       "25     9\n",
       "29     8\n",
       "28     8\n",
       "21     8\n",
       "23     8\n",
       "22     5\n",
       "19     5\n",
       "27     5\n",
       "31     4\n",
       "30     4\n",
       "20     2\n",
       "38     2\n",
       "32     2\n",
       "35     1\n",
       "34     1\n",
       "17     1\n",
       "15     1\n",
       "Name: age, dtype: int64"
      ]
     },
     "execution_count": 73,
     "metadata": {},
     "output_type": "execute_result"
    }
   ],
   "source": [
    "df.age.value_counts()"
   ]
  },
  {
   "cell_type": "code",
   "execution_count": 82,
   "metadata": {
    "collapsed": false
   },
   "outputs": [],
   "source": [
    "agesex = DataFrame.from_dict(age_gender, orient = 'index')\n",
    "agesex.columns = 'sex','age'\n",
    "agesex.sort_index(inplace = True)"
   ]
  },
  {
   "cell_type": "code",
   "execution_count": 96,
   "metadata": {
    "collapsed": false
   },
   "outputs": [
    {
     "data": {
      "text/plain": [
       "0.8988300154759482"
      ]
     },
     "execution_count": 96,
     "metadata": {},
     "output_type": "execute_result"
    }
   ],
   "source": [
    "r = np.random.random()\n",
    "r"
   ]
  },
  {
   "cell_type": "code",
   "execution_count": 110,
   "metadata": {
    "collapsed": false
   },
   "outputs": [
    {
     "data": {
      "text/plain": [
       "('Male', 57.0)"
      ]
     },
     "execution_count": 110,
     "metadata": {},
     "output_type": "execute_result"
    }
   ],
   "source": [
    "r = np.random.random()\n",
    "age_gender[min([a for a in age_gender if a > r])]"
   ]
  },
  {
   "cell_type": "code",
   "execution_count": 95,
   "metadata": {
    "collapsed": false
   },
   "outputs": [
    {
     "data": {
      "text/plain": [
       "0.48488507821648896"
      ]
     },
     "execution_count": 95,
     "metadata": {},
     "output_type": "execute_result"
    }
   ],
   "source": []
  },
  {
   "cell_type": "code",
   "execution_count": 152,
   "metadata": {
    "collapsed": false
   },
   "outputs": [
    {
     "data": {
      "text/plain": [
       "[0.8078515014110982,\n",
       " 0.9019658539045637,\n",
       " 0.11435181400166239,\n",
       " 0.04515061831807243,\n",
       " 0.8415368474787046,\n",
       " 0.4628879461716967,\n",
       " 0.7198945647295121,\n",
       " 0.9624651340911056,\n",
       " 0.04246385203670999,\n",
       " 0.3878491976248609,\n",
       " 0.8890740943145938,\n",
       " 0.02115176897015225,\n",
       " 0.5496537359037934,\n",
       " 0.9771898191541242,\n",
       " 0.13919801616559102,\n",
       " 0.4064399250359042,\n",
       " 0.006056716560041586,\n",
       " 0.9606053357327292,\n",
       " 0.2974616705276837,\n",
       " 0.6759924399578466,\n",
       " 0.7465147186033126,\n",
       " 0.7365147548240831,\n",
       " 0.03902972979414132,\n",
       " 0.35401445444191615,\n",
       " 0.9814418462254517,\n",
       " 0.7783342733115417,\n",
       " 0.8028978634841565,\n",
       " 0.5440584204395583,\n",
       " 0.049143131101296866,\n",
       " 0.3878126714044975,\n",
       " 0.17029765138155595,\n",
       " 0.8507318548624071,\n",
       " 0.23022712524785804,\n",
       " 0.2210260429515929,\n",
       " 0.775069300716339,\n",
       " 0.56799203924545,\n",
       " 0.458112784809953,\n",
       " 0.9684351830718742,\n",
       " 0.09307260748006418,\n",
       " 0.6124702619665369,\n",
       " 0.17413712181122376,\n",
       " 0.5227864109246635,\n",
       " 0.6223670427052743,\n",
       " 0.41598831967067473,\n",
       " 0.6952098395950158,\n",
       " 0.006849931504167683,\n",
       " 0.5099567660773134,\n",
       " 0.27386381122695336,\n",
       " 0.8333711667499706,\n",
       " 0.18394863086269497,\n",
       " 0.5717322094073333,\n",
       " 0.10450931664152596,\n",
       " 0.8350031947855218,\n",
       " 0.5828478493590277,\n",
       " 0.009276102204776149,\n",
       " 0.07049735022346404,\n",
       " 0.03915365320011566,\n",
       " 0.8541588765600486,\n",
       " 0.8380166016649748,\n",
       " 0.21182898834475128,\n",
       " 0.9569817150925227,\n",
       " 0.20645581821446723,\n",
       " 0.621285869644425,\n",
       " 0.053306961994073476,\n",
       " 0.31712493500403893,\n",
       " 0.017478856919179053,\n",
       " 0.47956106700900314,\n",
       " 0.43413107868310774,\n",
       " 0.42006676090067363,\n",
       " 0.38354850513951366,\n",
       " 0.7534911389250661,\n",
       " 0.8131651294542139,\n",
       " 0.03419171024224055,\n",
       " 0.9640345162423061,\n",
       " 0.3843072253561991,\n",
       " 0.6816882691738062,\n",
       " 0.6772255516999698,\n",
       " 0.3166815791534642,\n",
       " 0.06529208088178928,\n",
       " 0.4198866298019508,\n",
       " 0.9133946647572445,\n",
       " 0.6839756492138054,\n",
       " 0.24667030602891848,\n",
       " 0.36983115260431343,\n",
       " 0.42583621976980957,\n",
       " 0.33226441087714276,\n",
       " 0.9637748886211216,\n",
       " 0.2742588801609068,\n",
       " 0.19972005366753331,\n",
       " 0.5284656354425935,\n",
       " 0.2497092199657771,\n",
       " 0.045565031387970634,\n",
       " 0.13571927112297244,\n",
       " 0.7995048307751349,\n",
       " 0.031138855208864835,\n",
       " 0.04279461961084574,\n",
       " 0.9031223052690638,\n",
       " 0.9886512563211162,\n",
       " 0.4595479511506847]"
      ]
     },
     "execution_count": 152,
     "metadata": {},
     "output_type": "execute_result"
    }
   ],
   "source": [
    "min([np.random.uniform(0,1) for a in age_gender if a > np.random.uniform(0,1)])"
   ]
  },
  {
   "cell_type": "code",
   "execution_count": 140,
   "metadata": {
    "collapsed": false
   },
   "outputs": [
    {
     "data": {
      "text/plain": [
       "0.7560079552452711"
      ]
     },
     "execution_count": 140,
     "metadata": {},
     "output_type": "execute_result"
    }
   ],
   "source": []
  },
  {
   "cell_type": "code",
   "execution_count": null,
   "metadata": {
    "collapsed": true
   },
   "outputs": [],
   "source": []
  }
 ],
 "metadata": {
  "kernelspec": {
   "display_name": "Python 2",
   "language": "python",
   "name": "python2"
  },
  "language_info": {
   "codemirror_mode": {
    "name": "ipython",
    "version": 2
   },
   "file_extension": ".py",
   "mimetype": "text/x-python",
   "name": "python",
   "nbconvert_exporter": "python",
   "pygments_lexer": "ipython2",
   "version": "2.7.10"
  }
 },
 "nbformat": 4,
 "nbformat_minor": 0
}
